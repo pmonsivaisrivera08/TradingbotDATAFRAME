{
 "cells": [
  {
   "cell_type": "code",
   "execution_count": 2,
   "id": "48400955-0079-4088-be02-5b0f37892bb5",
   "metadata": {},
   "outputs": [],
   "source": [
    "from binance.client import Client\n",
    "from binance.enums import *\n",
    "import pandas as pd"
   ]
  },
  {
   "cell_type": "code",
   "execution_count": 22,
   "id": "d7e442a4-a05a-4ac6-9c78-d9fc0aa423b3",
   "metadata": {},
   "outputs": [],
   "source": [
    "API_KEY = \"\"\n",
    "API_SECRET = \"\""
   ]
  },
  {
   "cell_type": "code",
   "execution_count": 4,
   "id": "440ec670-fd17-4451-a8cc-1d2117db0744",
   "metadata": {},
   "outputs": [],
   "source": [
    "client = Client(API_KEY,API_SECRET, tld = 'com')"
   ]
  },
  {
   "cell_type": "code",
   "execution_count": 5,
   "id": "b3c612fb-ecd7-4a15-ba66-69b2174dba73",
   "metadata": {},
   "outputs": [],
   "source": [
    "def obtener_todos_los_tickers_binance():\n",
    "    lista_tickers = client.get_all_tickers()\n",
    "    \n",
    "    for ticker in lista_tickers:\n",
    "        symbol = ticker['symbol']\n",
    "        price = ticker['price']\n",
    "    \n",
    "        print(\"Simbolo: \" + symbol + \"Precio:\" + price)"
   ]
  },
  {
   "cell_type": "code",
   "execution_count": 6,
   "id": "5603cb01-f6f8-4a6e-b286-ff9b680a48d5",
   "metadata": {},
   "outputs": [],
   "source": [
    "def SMA_INTERVALO_1HS(periodo,ticker):\n",
    "    lista_precios_cierre = []\n",
    "    \n",
    "    data_historical = client.get_historical_klines(ticker,Client.KLINE_INTERVAL_1HOUR,'250 hour ago UTC')\n",
    "    \n",
    "    print(\"cantidad de velas: \",len(data_historical))\n",
    "    \n",
    "    sumatoria = 0\n",
    "    \n",
    "    if len(data_historical) == 250:\n",
    "    \n",
    "        print(\"se obtuvieron los datos correctamente\")\n",
    "    \n",
    "        for i in range((250 - periodo), 250):\n",
    "            #print(data_historical[i])\n",
    "        \n",
    "            sumatoria += float(data_historical[i][4])\n",
    "    \n",
    "        sma=sumatoria/periodo\n",
    "        print(\"SMA: \" + ticker + \" Periodo:\" + str(periodo) + \":\" + str(sma))\n",
    "        return(sma)\n",
    "\n",
    "    else:\n",
    "        print(\"no se pudo obtener el historial de velas\")"
   ]
  },
  {
   "cell_type": "code",
   "execution_count": 36,
   "id": "3a39dd44-9ab3-40ae-8373-f2a4c372f9e9",
   "metadata": {},
   "outputs": [],
   "source": [
    "#sma4 = SMA_INTERVALO_1HS(4,'BTCUSDT')"
   ]
  },
  {
   "cell_type": "code",
   "execution_count": 37,
   "id": "474af757-8d88-4f99-90e9-b3711da29367",
   "metadata": {},
   "outputs": [],
   "source": [
    "#sma9 = SMA_INTERVALO_1HS(9,'BTCUSDT')"
   ]
  },
  {
   "cell_type": "code",
   "execution_count": 38,
   "id": "02813517-8f8a-4cca-be2f-88a3397ba11f",
   "metadata": {},
   "outputs": [],
   "source": [
    "#sma18 = SMA_INTERVALO_1HS(18,'BTCUSDT')"
   ]
  },
  {
   "cell_type": "code",
   "execution_count": 15,
   "id": "522a78a8-6fd0-4498-b07e-c1c46d91a69c",
   "metadata": {},
   "outputs": [],
   "source": [
    "#if sma4 > sma9 and sma4 > sma18:\n",
    "    #print(\"se esta cumpliendo la estrategia triple cruce SMA 4 9 18\")\n",
    "#else:\n",
    "    #print(\"no se esta cumpliendo la estrategia triple cruce SMA 4 9 18\")"
   ]
  },
  {
   "cell_type": "code",
   "execution_count": 7,
   "id": "70a516a7-38c5-4897-b9b0-25075acb6994",
   "metadata": {},
   "outputs": [],
   "source": [
    "def EMA_INTERVALO_1HS(periodo,ticker):\n",
    "    \n",
    "    lista_precios_cierre = []\n",
    "    ema = []\n",
    "    \n",
    "    data_historical = client.get_historical_klines(ticker,Client.KLINE_INTERVAL_1HOUR,'250 hour ago UTC')\n",
    "    \n",
    "    print(\"cantidad de velas:\", len(data_historical))\n",
    "    \n",
    "    sma = SMA_INTERVALO_1HS(periodo,ticker)\n",
    "    ema.append(sma)\n",
    "    print(\"primer valor emas:\", ema)\n",
    "    \n",
    "    if len(data_historical) == 250:\n",
    "        print(\"se obtuvieron los datos correctamente\")\n",
    "        \n",
    "        for i in range(len(data_historical)):\n",
    "            lista_precios_cierre.append(float(data_historical[i][4]))\n",
    "        \n",
    "        #print(\"cantidad de velas para periodo:\", len(lista_precios_cierre[periodo:]))\n",
    "        for price in lista_precios_cierre[periodo:]:\n",
    "            ema.append( (price * (2/(periodo + 1 ) ) ) + ema[-1] * (1 -(2 / (periodo + 1) ) ) )\n",
    "        \n",
    "        #print(\"cantidad de elementos: \", len(ema))\n",
    "        #for i in ema:\n",
    "            #print(i)\n",
    "        \n",
    "        ema_valor = round(ema.pop(),3)\n",
    "        \n",
    "        print(\"EMA:\" + ticker + \" Periodo:\" + str(periodo) + \" : \" + str(ema_valor))\n",
    "        \n",
    "        return(ema_valor)\n",
    "    \n",
    "    else:\n",
    "        print(\"no se pudo obtener el historial de velas\")\n",
    "            \n",
    "\n"
   ]
  },
  {
   "cell_type": "code",
   "execution_count": 65,
   "id": "df300afa-057f-4e74-8927-e52a94fd9e25",
   "metadata": {},
   "outputs": [],
   "source": [
    "#Puedes cambiar el 10 por el período que desees y SOLUSDT por la criptomoneda que quieras de Binance.\n",
    "#You can change 10 to any period you want and SOLUSDT to any cryptocurrency you want from Binance."
   ]
  },
  {
   "cell_type": "code",
   "execution_count": 6,
   "id": "8dce4afa-7eab-42de-8d7d-84863b561fce",
   "metadata": {},
   "outputs": [],
   "source": [
    "#ema10 = EMA_INTERVALO_1HS(10,'SOLUSDT')"
   ]
  },
  {
   "cell_type": "code",
   "execution_count": 7,
   "id": "ddefcf14-c2b7-48c1-90c0-72cc43e84f04",
   "metadata": {},
   "outputs": [],
   "source": [
    "#ema20 = EMA_INTERVALO_1HS(20,'SOLUSDT')"
   ]
  },
  {
   "cell_type": "code",
   "execution_count": 8,
   "id": "12895bc2-2160-455d-9780-861950f3aa88",
   "metadata": {},
   "outputs": [],
   "source": [
    "#ema30 = EMA_INTERVALO_1HS(30,'SOLUSDT')"
   ]
  },
  {
   "cell_type": "code",
   "execution_count": 73,
   "id": "e186debd-0508-407d-92df-d0358c5f82d8",
   "metadata": {},
   "outputs": [],
   "source": [
    "#Estrategia Triple Cruce con ema\n",
    "#Triple EMA Crossover"
   ]
  },
  {
   "cell_type": "code",
   "execution_count": 10,
   "id": "b67ed2f9-e6ef-4622-9ef1-5110cf70c53e",
   "metadata": {},
   "outputs": [],
   "source": [
    "#if ema10 > ema20 and ema10 > ema30:\n",
    "    #print(\"se esta cumpliendo la estrategia triple cruce EMA 10 20 30\")\n",
    "#else:\n",
    "    #print(\"no se esta cumpliendo la estrategia triple cruce EMA 10 20 30\")"
   ]
  },
  {
   "cell_type": "code",
   "execution_count": 3,
   "id": "f3750046-45c1-487a-adc9-7eee88073c29",
   "metadata": {},
   "outputs": [],
   "source": [
    "#Calculo RSI grafico 1 hora, dado periodo y ticker\n",
    "#RSI calculation for 1-hour chart, given period and ticker"
   ]
  },
  {
   "cell_type": "code",
   "execution_count": 8,
   "id": "dc482d2a-548b-4ca6-8b33-395538b3bc0c",
   "metadata": {},
   "outputs": [],
   "source": [
    "def RSI_INTERVALO_1HS(periodo,ticker):\n",
    "    lista_precios_cierre = []\n",
    "    data_historical = client.get_historical_klines(ticker,Client.KLINE_INTERVAL_1HOUR,'250 hour ago UTC')\n",
    "    \n",
    "    #print(\"Cantidad de velas: \",len(data_historical))\n",
    "    \n",
    "    if len(data_historical) ==250:\n",
    "        print(\"se obtuvieron los datos correctamente\")\n",
    "        \n",
    "        for i in range(len(data_historical)):\n",
    "            lista_precios_cierre.append(float(data_historical[i][4]))\n",
    "        \n",
    "        dic_lpc = {\"precios_cierre\": lista_precios_cierre}\n",
    "        \n",
    "        dataFrame = pd.DataFrame(dic_lpc)\n",
    "        \n",
    "        #print(dataFrame)\n",
    "        \n",
    "        diferencia = dataFrame[\"precios_cierre\"].diff(1)\n",
    "        #print(diferencia)\n",
    "        \n",
    "        positivos = diferencia.copy()\n",
    "        negativos = diferencia.copy()\n",
    "        \n",
    "        positivos[positivos<0] = 0\n",
    "        negativos[negativos>0] = 0\n",
    "        \n",
    "        #print(positivos)\n",
    "        #print(negativos)\n",
    "        \n",
    "        ema_positivos = positivos.ewm(com = (periodo-1), adjust = False).mean()\n",
    "        ema_negativos = abs(negativos.ewm(com = (periodo-1), adjust = False).mean())\n",
    "        \n",
    "        rs = ema_positivos/ ema_negativos\n",
    "        \n",
    "        rsi = 100 - (100/(rs+1))\n",
    "        #print(rsi)\n",
    "        rsi_valor = round(rsi.iloc[-1],2)\n",
    "        \n",
    "        print(\"RSI: \", rsi_valor)\n",
    "        \n",
    "        return rsi_valor\n",
    "                        \n",
    "        \n",
    "           \n",
    "    else:\n",
    "        print(\"no se obtuvieron los datos correctamente\")"
   ]
  },
  {
   "cell_type": "code",
   "execution_count": null,
   "id": "d62bb329-0a03-444b-8ad8-3a09a2c6acaa",
   "metadata": {},
   "outputs": [],
   "source": [
    "#Estrategia RSI\n",
    "#RSI"
   ]
  },
  {
   "cell_type": "code",
   "execution_count": 1,
   "id": "e0d005a4-f207-447f-b15f-555fbc5e9aa1",
   "metadata": {},
   "outputs": [],
   "source": [
    "#rsi = RSI_INTERVALO_1HS(14,'SOLUSDT')\n",
    "#if rsi < 30:\n",
    "    #print(\"rsi menor a 30 sobreventa, alerta de COMPRA\")\n",
    "#if rsi > 70:\n",
    "    #print(\"rsi mayor a 70 sobrecompra, alerta de VENTA\")"
   ]
  },
  {
   "cell_type": "code",
   "execution_count": null,
   "id": "f61f1de9-50a7-4647-a40b-811ffd6d4824",
   "metadata": {},
   "outputs": [],
   "source": [
    "#________________________Crear dataframe\n",
    "#Create Dataframe"
   ]
  },
  {
   "cell_type": "code",
   "execution_count": 19,
   "id": "b32f9cc3-12a6-4ac9-8069-87411675d9c9",
   "metadata": {},
   "outputs": [],
   "source": [
    "def crearDataframe(ticker):\n",
    "    lista_precios_cierre = []\n",
    "    data_historical = client.get_historical_klines(ticker,Client.KLINE_INTERVAL_1HOUR,'250 hour ago UTC')\n",
    "    \n",
    "    if len(data_historical) == 250:\n",
    "        print(\"se obtuvieron los datos correctamente\")\n",
    "        \n",
    "        for i in range(len(data_historical)):\n",
    "            lista_precios_cierre.append(float(data_historical[i][4]))\n",
    "        \n",
    "        dic_lpc = {\"precios_cierre\":lista_precios_cierre}\n",
    "        \n",
    "        dataFrame = pd.DataFrame(dic_lpc)\n",
    "        \n",
    "        return True,dataFrame\n",
    "    else:\n",
    "        print(\"No se obtuvieron los datos correctamente\")\n",
    "        return False, None"
   ]
  },
  {
   "cell_type": "code",
   "execution_count": 20,
   "id": "b2fab401-8c82-42d4-b5e5-bdd61c067141",
   "metadata": {},
   "outputs": [
    {
     "name": "stdout",
     "output_type": "stream",
     "text": [
      "se obtuvieron los datos correctamente\n"
     ]
    }
   ],
   "source": [
    "re, df = crearDataframe(\"BTCUSDT\")"
   ]
  },
  {
   "cell_type": "code",
   "execution_count": 21,
   "id": "a0eef6dd-79b6-405c-8ffa-c0bdb78f4128",
   "metadata": {},
   "outputs": [
    {
     "name": "stdout",
     "output_type": "stream",
     "text": [
      "     precios_cierre\n",
      "0         117461.98\n",
      "1         117182.19\n",
      "2         117105.78\n",
      "3         117554.23\n",
      "4         117472.01\n",
      "..              ...\n",
      "245       117290.19\n",
      "246       116269.54\n",
      "247       115453.24\n",
      "248       115319.00\n",
      "249       115431.35\n",
      "\n",
      "[250 rows x 1 columns]\n"
     ]
    }
   ],
   "source": [
    "print(df)"
   ]
  }
 ],
 "metadata": {
  "kernelspec": {
   "display_name": "Python [conda env:base] *",
   "language": "python",
   "name": "conda-base-py"
  },
  "language_info": {
   "codemirror_mode": {
    "name": "ipython",
    "version": 3
   },
   "file_extension": ".py",
   "mimetype": "text/x-python",
   "name": "python",
   "nbconvert_exporter": "python",
   "pygments_lexer": "ipython3",
   "version": "3.12.7"
  }
 },
 "nbformat": 4,
 "nbformat_minor": 5
}
